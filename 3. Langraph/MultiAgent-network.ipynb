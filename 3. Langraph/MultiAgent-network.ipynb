{
 "cells": [
  {
   "cell_type": "markdown",
   "id": "57307703-ef7e-4173-b3d4-248e5a8a6dfc",
   "metadata": {},
   "source": [
    "# MultiAgent System\n",
    "\n",
    "There are two patterns: \n",
    "\n",
    "- Network\n",
    "- Supervisor   : Hierarichal Pattern"
   ]
  },
  {
   "cell_type": "code",
   "execution_count": 241,
   "id": "c4872c51-3184-46ec-b74f-1cafcb36f48e",
   "metadata": {},
   "outputs": [
    {
     "data": {
      "text/plain": [
       "True"
      ]
     },
     "execution_count": 241,
     "metadata": {},
     "output_type": "execute_result"
    }
   ],
   "source": [
    "import os\n",
    "from dotenv import load_dotenv\n",
    "load_dotenv()"
   ]
  },
  {
   "cell_type": "code",
   "execution_count": 227,
   "id": "7f5ec117-759a-4bbe-8232-f720b58b02b7",
   "metadata": {},
   "outputs": [],
   "source": [
    "from langchain_openai import ChatOpenAI\n",
    "#llm=ChatOpenAI(model = \"gpt-4o-mini\")\n",
    "llm = ChatOpenAI()"
   ]
  },
  {
   "cell_type": "code",
   "execution_count": 228,
   "id": "f725f033-87e7-4d40-963f-a94096d23479",
   "metadata": {},
   "outputs": [],
   "source": [
    "from langgraph.types import Command\n",
    "from langgraph.prebuilt import create_react_agent"
   ]
  },
  {
   "cell_type": "markdown",
   "id": "e243d46c-bd54-46c6-858f-5cb81d4392a9",
   "metadata": {},
   "source": [
    "## Creating a dummy multi agent\n",
    "\n",
    "It is for **network/collaborative** multi agent "
   ]
  },
  {
   "cell_type": "code",
   "execution_count": 229,
   "id": "cf3526c3-23e5-48aa-9834-5b665df4ce3d",
   "metadata": {},
   "outputs": [],
   "source": [
    "from langchain_core.tools import tool"
   ]
  },
  {
   "cell_type": "code",
   "execution_count": 230,
   "id": "ce116dec-6766-4a01-b838-def4de545583",
   "metadata": {},
   "outputs": [],
   "source": [
    "def add_number(state):\n",
    "    result = state[\"num1\"] + state[\"num2\"]\n",
    "    print(f\"Result of the addition: {result}\")\n",
    "    return Command(goto=\"multiply\", update={\"sum\":result})"
   ]
  },
  {
   "cell_type": "code",
   "execution_count": 231,
   "id": "7b53a055-9df0-46e4-973e-777abe887319",
   "metadata": {},
   "outputs": [],
   "source": [
    "@tool\n",
    "def transfer_to_multiplication_expert():\n",
    "    \"\"\"Ask multiplication agent for help\"\"\"\n",
    "    return "
   ]
  },
  {
   "cell_type": "code",
   "execution_count": 232,
   "id": "d8f9a788-bdc2-4b88-9eea-a038e4fdc6db",
   "metadata": {},
   "outputs": [],
   "source": [
    "@tool\n",
    "def transfer_to_addition_expert():\n",
    "    \"\"\"Ask addition agent for help. Addition is a mathematical sum between 2 or more\n",
    "    numbers\"\"\"\n",
    "    return"
   ]
  },
  {
   "cell_type": "code",
   "execution_count": 233,
   "id": "04c0183b-f968-478d-a923-ea09f6cd7df5",
   "metadata": {},
   "outputs": [],
   "source": [
    "from typing_extensions import Literal\n",
    "from langgraph.graph import MessagesState, StateGraph, START, END"
   ]
  },
  {
   "cell_type": "code",
   "execution_count": 234,
   "id": "48219ca6-d6c2-4da7-857e-daa6b5e497c4",
   "metadata": {},
   "outputs": [],
   "source": [
    "# Agent I\n",
    "def additional_expert(state: MessagesState) -> Command[Literal[\"multiplication_expert\",\"__end__\"]]:\n",
    "    print(\"---- ADDTION EXPERT-----\")\n",
    "    system_prompt = (\n",
    "        \"You are an addition expert, you can ask the multiplication expert for help\" \n",
    "        \"with multiplication.\"\n",
    "        \"Always do your portion for calculation before the handoff.\"\n",
    "    )\n",
    "\n",
    "    messages = [\n",
    "        {\"role\": \"system\", \"content\": system_prompt}\n",
    "    ] + state[\"messages\"]\n",
    "\n",
    "    llm_with_tool = llm.bind_tools([transfer_to_multiplication_expert]) # Additional expert only need access of Multiplication tool\n",
    "\n",
    "    ai_message = llm_with_tool.invoke(messages) # If the additional expert can perform the operation\n",
    "                                                # On its own, it will perform the operation\n",
    "                                                # Else, it will make tool call.\n",
    "    \n",
    "\n",
    "    if len(ai_message.tool_calls) > 0: \n",
    "        print(\"---- ai_message.tool_calls > 0 -----\")\n",
    "        # If the ai_message asked for tool_calls, that means we need to call the tool.\n",
    "        tool_call_id = ai_message.tool_calls[-1][\"id\"]\n",
    "\n",
    "        # [OPTIONAL] We can also create a metadata for tool message\n",
    "        tool_message = {\n",
    "            \"role\": \"tool\",\n",
    "            \"content\": \"Successfully transferred\",\n",
    "            \"tool_call_id\": tool_call_id\n",
    "        }\n",
    "\n",
    "        # Return the Command function (Langgraph internal method) to connect current Agent to \n",
    "        # other tool\n",
    "        return Command(\n",
    "            goto=\"multiplication_expert\",  # Name of the next tool to call\n",
    "            update={\"messages\" : [ai_message, tool_message]} # Update to the Agent Message \n",
    "        )\n",
    "\n",
    "    # If no tool call is required, Agent can answer from its knowledge.\n",
    "    print(\"---- ai_message.tool_calls < 0 -----\")\n",
    "    return {\"messages\": [ai_message]}"
   ]
  },
  {
   "cell_type": "raw",
   "id": "3e3b5af1-d0f9-47d1-ad55-1a0741ea5fe9",
   "metadata": {},
   "source": [
    "def additional_expert(state:MessagesState)-> Command[Literal[\"multiplication_expert\", \"__end__\"]]:\n",
    "    \n",
    "    system_prompt = (\n",
    "        \"You are an addition expert, you can ask the multiplication expert for help with multiplication.\"\n",
    "        \"Always do your portion of calculation before the handoff.\"\n",
    "    )\n",
    "    \n",
    "    messages = [{\"role\": \"system\", \"content\": system_prompt}] + state[\"messages\"]\n",
    "    \n",
    "    \n",
    "    ai_msg = llm.bind_tools([transfer_to_multiplication_expert]).invoke(messages)\n",
    "    \n",
    "    \n",
    "    if len(ai_msg.tool_calls) > 0:\n",
    "        tool_call_id = ai_msg.tool_calls[-1][\"id\"]\n",
    "        tool_msg = {\n",
    "            \"role\": \"tool\",\n",
    "            \"content\": \"Successfully transferred\",\n",
    "            \"tool_call_id\": tool_call_id,\n",
    "        }\n",
    "        \n",
    "        return Command(\n",
    "            goto=\"multiplication_expert\", update={\"messages\": [ai_msg, tool_msg]}\n",
    "        )\n",
    "    return {\"messages\": [ai_msg]}"
   ]
  },
  {
   "cell_type": "code",
   "execution_count": 235,
   "id": "1bbe3cb2-65cd-4bd4-84fc-5113f37e8108",
   "metadata": {},
   "outputs": [],
   "source": [
    "# Agent II\n",
    "def multiplication_expert(state:MessagesState)-> Command[Literal[\"additional_expert\", \"__end__\"]]:\n",
    "    print(\"---- MULTIPLICATION AGENT ----\")\n",
    "    system_prompt = (\n",
    "        \"You are a multiplication expert, you can ask an addition expert for help with addition. \"\n",
    "        \"Always do your portion of calculation before the handoff.\"\n",
    "    )\n",
    "    \n",
    "    messages = [{\"role\": \"system\", \"content\": system_prompt}] + state[\"messages\"]\n",
    "    \n",
    "    ai_msg = llm.bind_tools([transfer_to_addition_expert]).invoke(messages)\n",
    "    \n",
    "    if len(ai_msg.tool_calls) > 0:\n",
    "        tool_call_id = ai_msg.tool_calls[-1][\"id\"]\n",
    "        tool_msg = {\n",
    "            \"role\": \"tool\",\n",
    "            \"content\": \"Successfully transferred\",\n",
    "            \"tool_call_id\": tool_call_id,\n",
    "        }\n",
    "        return Command(goto=\"additional_expert\", update={\"messages\": [ai_msg, tool_msg]})\n",
    "    return {\"messages\": [ai_msg]}"
   ]
  },
  {
   "cell_type": "code",
   "execution_count": 236,
   "id": "d2d1eb2e-e8e9-49ac-99a6-182515edef1e",
   "metadata": {},
   "outputs": [
    {
     "data": {
      "text/plain": [
       "<langgraph.graph.state.StateGraph at 0x2bfa523d370>"
      ]
     },
     "execution_count": 236,
     "metadata": {},
     "output_type": "execute_result"
    }
   ],
   "source": [
    "workflow = StateGraph(MessagesState)\n",
    "\n",
    "# name of the nodes must be same as the values set in the Literals during function definition\n",
    "workflow.add_node(\"additional_expert\", additional_expert)\n",
    "workflow.add_node(\"multiplication_expert\", multiplication_expert)"
   ]
  },
  {
   "cell_type": "code",
   "execution_count": 237,
   "id": "620f09ce-4ddd-45e5-a7fa-7faed482417c",
   "metadata": {},
   "outputs": [
    {
     "data": {
      "text/plain": [
       "<langgraph.graph.state.StateGraph at 0x2bfa523d370>"
      ]
     },
     "execution_count": 237,
     "metadata": {},
     "output_type": "execute_result"
    }
   ],
   "source": [
    "workflow.add_edge(START, \"additional_expert\")"
   ]
  },
  {
   "cell_type": "code",
   "execution_count": 238,
   "id": "03de95f0-a52d-4a11-8377-446064d9d143",
   "metadata": {},
   "outputs": [
    {
     "data": {
      "image/png": "[encoded data removed]",
      "text/plain": [
       "<langgraph.graph.state.CompiledStateGraph object at 0x000002BFA519AF00>"
      ]
     },
     "execution_count": 238,
     "metadata": {},
     "output_type": "execute_result"
    }
   ],
   "source": [
    "app = workflow.compile()\n",
    "app"
   ]
  },
  {
   "cell_type": "code",
   "execution_count": 239,
   "id": "d65b4042-7131-430a-a80d-4433d31fa244",
   "metadata": {},
   "outputs": [
    {
     "name": "stdout",
     "output_type": "stream",
     "text": [
      "---- ADDTION EXPERT-----\n",
      "---- ai_message.tool_calls > 0 -----\n",
      "---- MULTIPLICATION AGENT ----\n",
      "---- ADDTION EXPERT-----\n",
      "---- ai_message.tool_calls < 0 -----\n"
     ]
    },
    {
     "data": {
      "text/plain": [
       "{'messages': [HumanMessage(content=\"what's (3 + 5) * 12. Provide me the output\", additional_kwargs={}, response_metadata={}, id='82c051b8-8fa1-4ff4-8308-4b2dd80b32dd'),\n",
       "  AIMessage(content='', additional_kwargs={'tool_calls': [{'id': 'call_McLqYlrJSa2pBGFw50eeqKHT', 'function': {'arguments': '{}', 'name': 'transfer_to_multiplication_expert'}, 'type': 'function'}], 'refusal': None}, response_metadata={'token_usage': {'completion_tokens': 14, 'prompt_tokens': 86, 'total_tokens': 100, 'completion_tokens_details': {'accepted_prediction_tokens': 0, 'audio_tokens': 0, 'reasoning_tokens': 0, 'rejected_prediction_tokens': 0}, 'prompt_tokens_details': {'audio_tokens': 0, 'cached_tokens': 0}}, 'model_name': 'gpt-3.5-turbo-0125', 'system_fingerprint': None, 'id': 'chatcmpl-BlC0RzP2naQyaCq9ed5skQslZG28B', 'service_tier': 'default', 'finish_reason': 'tool_calls', 'logprobs': None}, id='run--21a81708-9ef2-4151-9d8b-7cf2d7b936e1-0', tool_calls=[{'name': 'transfer_to_multiplication_expert', 'args': {}, 'id': 'call_McLqYlrJSa2pBGFw50eeqKHT', 'type': 'tool_call'}], usage_metadata={'input_tokens': 86, 'output_tokens': 14, 'total_tokens': 100, 'input_token_details': {'audio': 0, 'cache_read': 0}, 'output_token_details': {'audio': 0, 'reasoning': 0}}),\n",
       "  ToolMessage(content='Successfully transferred', id='1ddf574e-1fdb-4e3b-85ca-f464829e136f', tool_call_id='call_McLqYlrJSa2pBGFw50eeqKHT'),\n",
       "  AIMessage(content=\"I have calculated the multiplication part of the expression. Now, let's find the sum of (3 + 5) to complete the calculation.\", additional_kwargs={'tool_calls': [{'id': 'call_Q5eUO06BSkMDTZP4DH642zAx', 'function': {'arguments': '{}', 'name': 'transfer_to_addition_expert'}, 'type': 'function'}], 'refusal': None}, response_metadata={'token_usage': {'completion_tokens': 44, 'prompt_tokens': 128, 'total_tokens': 172, 'completion_tokens_details': {'accepted_prediction_tokens': 0, 'audio_tokens': 0, 'reasoning_tokens': 0, 'rejected_prediction_tokens': 0}, 'prompt_tokens_details': {'audio_tokens': 0, 'cached_tokens': 0}}, 'model_name': 'gpt-3.5-turbo-0125', 'system_fingerprint': None, 'id': 'chatcmpl-BlC0RjUAv7zQmjoJp1S5MzGBpE8jv', 'service_tier': 'default', 'finish_reason': 'tool_calls', 'logprobs': None}, id='run--a29f0306-fd8e-4480-98b8-9b8da4f68599-0', tool_calls=[{'name': 'transfer_to_addition_expert', 'args': {}, 'id': 'call_Q5eUO06BSkMDTZP4DH642zAx', 'type': 'tool_call'}], usage_metadata={'input_tokens': 128, 'output_tokens': 44, 'total_tokens': 172, 'input_token_details': {'audio': 0, 'cache_read': 0}, 'output_token_details': {'audio': 0, 'reasoning': 0}}),\n",
       "  ToolMessage(content='Successfully transferred', id='6100e516-c58a-48e3-b079-dad05d02c614', tool_call_id='call_Q5eUO06BSkMDTZP4DH642zAx'),\n",
       "  AIMessage(content='The sum of (3 + 5) is 8. \\n\\nNow, multiplying 8 by 12: \\n\\n8 * 12 = 96\\n\\nTherefore, (3 + 5) * 12 is equal to 96.', additional_kwargs={'refusal': None}, response_metadata={'token_usage': {'completion_tokens': 50, 'prompt_tokens': 175, 'total_tokens': 225, 'completion_tokens_details': {'accepted_prediction_tokens': 0, 'audio_tokens': 0, 'reasoning_tokens': 0, 'rejected_prediction_tokens': 0}, 'prompt_tokens_details': {'audio_tokens': 0, 'cached_tokens': 0}}, 'model_name': 'gpt-3.5-turbo-0125', 'system_fingerprint': None, 'id': 'chatcmpl-BlC0TTTnIm93x9fvKEYLTrdMLk3Vl', 'service_tier': 'default', 'finish_reason': 'stop', 'logprobs': None}, id='run--5e164d53-e29b-4df8-bc99-36c30f185a95-0', usage_metadata={'input_tokens': 175, 'output_tokens': 50, 'total_tokens': 225, 'input_token_details': {'audio': 0, 'cache_read': 0}, 'output_token_details': {'audio': 0, 'reasoning': 0}})]}"
      ]
     },
     "execution_count": 239,
     "metadata": {},
     "output_type": "execute_result"
    }
   ],
   "source": [
    "app.invoke({\"messages\":[(\"user\",\"what's (3 + 5) * 12. Provide me the output\")]})"
   ]
  },
  {
   "cell_type": "code",
   "execution_count": null,
   "id": "2d63ac49-de5d-43ed-92d1-9e4d12eaa369",
   "metadata": {},
   "outputs": [],
   "source": []
  },
  {
   "cell_type": "markdown",
   "id": "54e0e1ef-cb58-43d4-94b0-2d5b1b497c96",
   "metadata": {},
   "source": [
    "# With realtime tool\n",
    "\n",
    "Tools:\n",
    "\n",
    "    - DuckDuckGoSearchRun : For Google search\n",
    "    - PythonREPL : For Python code execution\n",
    "    - TavilySearchResults: For Tavily Online search\n",
    "\n",
    "\n",
    "    - Common system message for all the Agents\n",
    "    - get_next_node function to identify the next node to call"
   ]
  },
  {
   "cell_type": "code",
   "execution_count": 208,
   "id": "54478c49-54e0-4f2a-8eb8-e30f20857cc3",
   "metadata": {},
   "outputs": [],
   "source": [
    "from langchain_community.tools import DuckDuckGoSearchRun"
   ]
  },
  {
   "cell_type": "code",
   "execution_count": 210,
   "id": "ab9ab8b1-a05b-4e75-b79d-11a8be162979",
   "metadata": {},
   "outputs": [],
   "source": [
    "search_tool=DuckDuckGoSearchRun() "
   ]
  },
  {
   "cell_type": "markdown",
   "id": "71362c73-fad3-4e77-8741-b4d1073866e8",
   "metadata": {},
   "source": [
    "👉 **<u>Web Search Tool</u>**"
   ]
  },
  {
   "cell_type": "code",
   "execution_count": 244,
   "id": "6c8dd91a-a782-41db-a384-09c252552239",
   "metadata": {},
   "outputs": [],
   "source": [
    "from langchain_community.tools.tavily_search import TavilySearchResults\n",
    "TAVILY_API_KEY = os.getenv(\"TAVILY_API_KEY\")\n",
    "search_tool = TavilySearchResults(tavily_api_key=TAVILY_API_KEY, max_results=1)"
   ]
  },
  {
   "cell_type": "code",
   "execution_count": 245,
   "id": "fb38bf35-6073-46a1-ae7a-c3010ef1e80b",
   "metadata": {},
   "outputs": [
    {
     "data": {
      "text/plain": [
       "[{'title': 'IND vs ENG Live Score, 1st Test Match Day 3 - Times of India',\n",
       "  'url': 'https://timesofindia.indiatimes.com/sports/cricket/ind-vs-eng-live-score-today-cricket-match-india-national-cricket-team-vs-england-cricket-team-1st-test-match-day-3-scorecard/liveblog/122003050.cms',\n",
       "  'content': 'Hello and welcome to our live coverage of the five-match Test series between India and England.   \\n  \\nThe first Test at Leeds is nicely poised. While Bumrah continued to create chances, India, unfortunately, didn’t hold on to them, but England riding on a spunky century from Ollie Pope has made a remarkable comeback after restricting India to 471. England in reply are 309 for 3, still trailing by 269 runs.',\n",
       "  'score': 0.7197191}]"
      ]
     },
     "execution_count": 245,
     "metadata": {},
     "output_type": "execute_result"
    }
   ],
   "source": [
    "search_tool.invoke(\"What is the current score between India and England's match?\")"
   ]
  },
  {
   "cell_type": "markdown",
   "id": "8b6b8cfe-fc52-4149-951b-79a25fbdf984",
   "metadata": {},
   "source": [
    "👉 **<u>Code Execution Tool</u>**"
   ]
  },
  {
   "cell_type": "code",
   "execution_count": 250,
   "id": "7fd2f4ae-6739-41f8-8b19-ce20acaa6cb2",
   "metadata": {},
   "outputs": [],
   "source": [
    "from langchain_experimental.utilities import PythonREPL\n",
    "from typing import Annotated"
   ]
  },
  {
   "cell_type": "code",
   "execution_count": 215,
   "id": "66d83a0f-fe0e-4abc-99ed-7840e668f8f4",
   "metadata": {},
   "outputs": [],
   "source": [
    "repl=PythonREPL()"
   ]
  },
  {
   "cell_type": "code",
   "execution_count": 246,
   "id": "6e96362f-60b3-44ec-a59e-5c3857fced66",
   "metadata": {},
   "outputs": [],
   "source": [
    "code = \"\"\"\n",
    "x = 5\n",
    "y = x * 2\n",
    "print(y)\n",
    "\"\"\""
   ]
  },
  {
   "cell_type": "code",
   "execution_count": 249,
   "id": "e92c4e91-974f-47bc-843b-02056c16eeae",
   "metadata": {},
   "outputs": [
    {
     "name": "stdout",
     "output_type": "stream",
     "text": [
      "10\n",
      "\n"
     ]
    }
   ],
   "source": [
    "# Test\n",
    "print(repl.run(code))"
   ]
  },
  {
   "cell_type": "markdown",
   "id": "02f48b6c-ab67-4382-bad4-5e239fd25154",
   "metadata": {},
   "source": [
    "**Create a Langchain tool from PythonREPL**"
   ]
  },
  {
   "cell_type": "code",
   "execution_count": 261,
   "id": "0311f84a-240b-49f8-8631-8e6d86a54b6f",
   "metadata": {},
   "outputs": [],
   "source": [
    "@tool\n",
    "def python_repl_tool(\n",
    "    code: Annotated[str, \"The python code to execute to generate your chart.\"]\n",
    "    ):\n",
    "    \"\"\"Use this to execute python code. If you want to see the output of a value,\n",
    "    you should print it out with `print(...)`. This is visible to the user.\"\"\"\n",
    "    \n",
    "    try:\n",
    "        result = repl.run(code)\n",
    "    except BaseException as e:\n",
    "        return f\"Failed to execute. Error: {repr(e)}\"\n",
    "    \n",
    "    result_str = f\"Successfully executed:\\n```python\\n{code}\\n```\\nStdout: {result}\"\n",
    "    return (\n",
    "        result_str + \"\\n\\nIf you have completed all tasks, respond with FINAL ANSWER.\"\n",
    "    )"
   ]
  },
  {
   "cell_type": "code",
   "execution_count": 254,
   "id": "a354f17b-edf1-4ac1-8054-766e5228de84",
   "metadata": {},
   "outputs": [
    {
     "data": {
      "text/plain": [
       "StructuredTool(name='python_repl_tool', description='Use this to execute python code. If you want to see the output of a value,\\n    you should print it out with `print(...)`. This is visible to the user.', args_schema=<class 'langchain_core.utils.pydantic.python_repl_tool'>, func=<function python_repl_tool at 0x000002BFA459AB60>)"
      ]
     },
     "execution_count": 254,
     "metadata": {},
     "output_type": "execute_result"
    }
   ],
   "source": [
    "python_repl_tool"
   ]
  },
  {
   "cell_type": "code",
   "execution_count": 262,
   "id": "b585b0d2-b50a-4569-9ad7-fa377b768fee",
   "metadata": {},
   "outputs": [
    {
     "data": {
      "text/markdown": [
       "Successfully executed:\n",
       "```python\n",
       "\n",
       "x = 5\n",
       "y = x * 2\n",
       "print(y)\n",
       "\n",
       "```\n",
       "Stdout: 10\n",
       "\n",
       "\n",
       "If you have completed all tasks, respond with FINAL ANSWER."
      ],
      "text/plain": [
       "<IPython.core.display.Markdown object>"
      ]
     },
     "metadata": {},
     "output_type": "display_data"
    }
   ],
   "source": [
    "# Test\n",
    "from IPython.display import display, Markdown\n",
    "from rich import print\n",
    "\n",
    "display(Markdown(python_repl_tool.invoke(code)))"
   ]
  },
  {
   "cell_type": "markdown",
   "id": "4c18566b-b4b6-4df0-a106-08181e3ecab7",
   "metadata": {},
   "source": [
    "**Create Prompt**"
   ]
  },
  {
   "cell_type": "code",
   "execution_count": 264,
   "id": "742ba9b2-4de1-42e1-b910-e67cfc893319",
   "metadata": {},
   "outputs": [],
   "source": [
    "# As multiple agents will be used, create a commond system prompt\n",
    "# We can append Agent specific instructions\n",
    "\n",
    "def make_system_prompt(instruction:str)->str:\n",
    "    return (\n",
    "        \"You are a helpful AI assistant, collaborating with other assistants.\"\n",
    "        \" Use the provided tools to progress towards answering the question.\"\n",
    "        \" If you are unable to fully answer, that's OK, another assistant with different tools \"\n",
    "        \" will help where you left off. Execute what you can to make progress.\"\n",
    "        \" If you or any of the other assistants have the final answer or deliverable,\"\n",
    "        \" prefix your response with FINAL ANSWER so the team knows to stop.\"\n",
    "        f\"\\n{instruction}\"\n",
    "    )"
   ]
  },
  {
   "cell_type": "code",
   "execution_count": 265,
   "id": "340e5120-f050-440b-a52a-cde591d42d9c",
   "metadata": {},
   "outputs": [],
   "source": [
    "from langchain_core.messages import BaseMessage, HumanMessage"
   ]
  },
  {
   "cell_type": "code",
   "execution_count": 280,
   "id": "52203d9f-5da4-4471-9489-1caffe7c8f4d",
   "metadata": {},
   "outputs": [],
   "source": [
    "def get_next_node(last_message :BaseMessage, goto :str):\n",
    "    \"\"\"Function to pass the control to next node\"\"\"\n",
    "    if 'FINAL ANSWER' in last_message.content:\n",
    "        # If any agent has decided to stop when the work is done\n",
    "        return END\n",
    "    return goto"
   ]
  },
  {
   "cell_type": "code",
   "execution_count": 273,
   "id": "a5d46705-2260-4ef9-b888-8621f00ac285",
   "metadata": {},
   "outputs": [],
   "source": [
    "#agent1\n",
    "def research_node(state:MessagesState)->Command[Literal[\"chart_generator\", END]]:\n",
    "    \"\"\"Create a research agent using in-build create_react_agent template\n",
    "    that creates an agent graph that calls tools in a loop until a stopping \n",
    "    condition is met.\"\"\"\n",
    "    \n",
    "    research_agent = create_react_agent(\n",
    "        llm,  \n",
    "        tools = [search_tool],\n",
    "        prompt = make_system_prompt(\n",
    "            \"You can only do research. You are working with a chart generator colleague.\"\n",
    "            )\n",
    "    )\n",
    "\n",
    "    # Agent receives the state messages as input\n",
    "    result = research_agent.invoke(state)\n",
    "\n",
    "    goto = get_next_node(result[\"messages\"][-1], \"chart_generator\")\n",
    "\n",
    "    result[\"messages\"][-1] = HumanMessage(\n",
    "        content=result[\"messages\"][-1].content,\n",
    "        name=\"researcher\")\n",
    "\n",
    "    # Return the commands to update the graph's state and send messages to nodes\n",
    "    return Command(update={\"messages\": result[\"messages\"]}, goto=goto)"
   ]
  },
  {
   "cell_type": "code",
   "execution_count": 275,
   "id": "e46b625e-0327-4c23-a887-a71f7b71aa80",
   "metadata": {},
   "outputs": [],
   "source": [
    "#agent2\n",
    "def chart_node(state:MessagesState)-> Command[Literal[\"researcher\", END]]:\n",
    "    \"\"\"Function to create a chart\"\"\"\n",
    "    chart_agent=create_react_agent(\n",
    "        llm,\n",
    "        tools=[python_repl_tool], # uses python repl tool to execute the python code\n",
    "        prompt=make_system_prompt(\n",
    "        \"You can only generate charts. You are working with a researcher colleague.\"\n",
    "            )\n",
    "        )\n",
    "    \n",
    "    result=chart_agent.invoke(state)\n",
    "\n",
    "    # If the result contains \"FINAL ANSWER\" keyword then end the loop, else go to the 'researcher' agent.\n",
    "    goto=get_next_node(result[\"messages\"][-1],\"researcher\")\n",
    "    result[\"messages\"][-1] = HumanMessage(content=result[\"messages\"][-1].content, name=\"chart_generator\")\n",
    "    return Command(update={\"messages\": result[\"messages\"]},goto=goto)"
   ]
  },
  {
   "cell_type": "code",
   "execution_count": 278,
   "id": "8eadb95e-195d-48e5-9205-ab32982b1754",
   "metadata": {},
   "outputs": [
    {
     "data": {
      "image/png": "[encoded data removed]",
      "text/plain": [
       "<langgraph.graph.state.CompiledStateGraph object at 0x000002BFA7FEA300>"
      ]
     },
     "execution_count": 278,
     "metadata": {},
     "output_type": "execute_result"
    }
   ],
   "source": [
    "workflow = StateGraph(MessagesState)\n",
    "workflow.add_node(\"researcher\", research_node)\n",
    "workflow.add_node(\"chart_generator\", chart_node)\n",
    "\n",
    "workflow.add_edge(START, \"researcher\")\n",
    "app = workflow.compile()\n",
    "app"
   ]
  },
  {
   "cell_type": "code",
   "execution_count": 283,
   "id": "95fd7145-f752-4bc3-b5d7-c981b3f8e594",
   "metadata": {},
   "outputs": [
    {
     "data": {
      "image/png": "[encoded data removed]",
      "text/plain": [
       "<Figure size 1000x600 with 1 Axes>"
      ]
     },
     "metadata": {},
     "output_type": "display_data"
    },
    {
     "data": {
      "text/plain": [
       "{'messages': [HumanMessage(content=\"get the UK's GDP over the past 3 years, then make a line chart of it.Once you make the chart, finish.\", additional_kwargs={}, response_metadata={}, id='a04ab9ea-56b5-4bbf-be9f-5fe6e4a9692e'),\n",
       "  AIMessage(content='', additional_kwargs={'tool_calls': [{'id': 'call_kKGT0FvFoECMdIOsA1ZswC7m', 'function': {'arguments': '{\"query\":\"UK GDP by year 2019-2021\"}', 'name': 'tavily_search_results_json'}, 'type': 'function'}], 'refusal': None}, response_metadata={'token_usage': {'completion_tokens': 27, 'prompt_tokens': 209, 'total_tokens': 236, 'completion_tokens_details': {'accepted_prediction_tokens': 0, 'audio_tokens': 0, 'reasoning_tokens': 0, 'rejected_prediction_tokens': 0}, 'prompt_tokens_details': {'audio_tokens': 0, 'cached_tokens': 0}}, 'model_name': 'gpt-3.5-turbo-0125', 'system_fingerprint': None, 'id': 'chatcmpl-BlHkeGmoTyStFNCszCyPxjU96EjhE', 'service_tier': 'default', 'finish_reason': 'tool_calls', 'logprobs': None}, id='run--abe2f362-d6ac-45a5-a1df-ccc602b0e5c1-0', tool_calls=[{'name': 'tavily_search_results_json', 'args': {'query': 'UK GDP by year 2019-2021'}, 'id': 'call_kKGT0FvFoECMdIOsA1ZswC7m', 'type': 'tool_call'}], usage_metadata={'input_tokens': 209, 'output_tokens': 27, 'total_tokens': 236, 'input_token_details': {'audio': 0, 'cache_read': 0}, 'output_token_details': {'audio': 0, 'reasoning': 0}}),\n",
       "  ToolMessage(content='[{\"title\": \"U.K. GDP | Historical Chart & Data - Macrotrends\", \"url\": \"https://www.macrotrends.net/global-metrics/countries/gbr/united-kingdom/gdp-gross-domestic-product\", \"content\": \"| U.K. GDP - Historical Data |\\\\n| --- |\\\\n| Year | GDP | Per Capita | Growth |\\\\n| --- | --- | --- | --- |\\\\n| 2023 | $3,340.03B | $48,867 | 0.10% |\\\\n| 2022 | $3,088.84B | $45,564 | 4.35% |\\\\n| 2021 | $3,141.51B | $46,870 | 8.67% |\\\\n| 2020 | $2,697.81B | $40,217 | \\\\\\\\-10.36% |\\\\n| 2019 | $2,851.41B | $42,663 | 1.64% |\\\\n| 2018 | $2,871.34B | $43,204 | 1.40% |\\\\n| 2017 | $2,680.15B | $40,572 | 2.66% |\\\\n| 2016 | $2,689.11B | $40,985 | 1.92% |\\\\n| 2015 | $2,927.91B | $44,964 | 2.22% | [...] *   U.K. gdp for 2023 was **$3,340.03B**, a **8.13% increase** from 2022.\\\\n*   U.K. gdp for 2022 was **$3,088.84B**, a **1.68% decline** from 2021.\\\\n*   U.K. gdp for 2021 was **$3,141.51B**, a **16.45% increase** from 2020.\\\\n*   U.K. gdp for 2020 was **$2,697.81B**, a **5.39% decline** from 2019.\\\\n\\\\n \\\\n\\\\n\\xa0\\xa0**Download Historical Data**\\xa0\\xa0 \\xa0\\xa0**Save as Image**\\\\n\\\\nData Source: [World Bank](http://datatopics.worldbank.org/world-development-indicators/)  \\\\n  \\\\nMLA Citation:\", \"score\": 0.8815438}]', name='tavily_search_results_json', id='a4f5d03a-6ade-4e08-85f9-2f0d7c77bd60', tool_call_id='call_kKGT0FvFoECMdIOsA1ZswC7m', artifact={'query': 'UK GDP by year 2019-2021', 'follow_up_questions': None, 'answer': None, 'images': [], 'results': [{'url': 'https://www.macrotrends.net/global-metrics/countries/gbr/united-kingdom/gdp-gross-domestic-product', 'title': 'U.K. GDP | Historical Chart & Data - Macrotrends', 'content': '| U.K. GDP - Historical Data |\\n| --- |\\n| Year | GDP | Per Capita | Growth |\\n| --- | --- | --- | --- |\\n| 2023 | $3,340.03B | $48,867 | 0.10% |\\n| 2022 | $3,088.84B | $45,564 | 4.35% |\\n| 2021 | $3,141.51B | $46,870 | 8.67% |\\n| 2020 | $2,697.81B | $40,217 | \\\\-10.36% |\\n| 2019 | $2,851.41B | $42,663 | 1.64% |\\n| 2018 | $2,871.34B | $43,204 | 1.40% |\\n| 2017 | $2,680.15B | $40,572 | 2.66% |\\n| 2016 | $2,689.11B | $40,985 | 1.92% |\\n| 2015 | $2,927.91B | $44,964 | 2.22% | [...] *   U.K. gdp for 2023 was **$3,340.03B**, a **8.13% increase** from 2022.\\n*   U.K. gdp for 2022 was **$3,088.84B**, a **1.68% decline** from 2021.\\n*   U.K. gdp for 2021 was **$3,141.51B**, a **16.45% increase** from 2020.\\n*   U.K. gdp for 2020 was **$2,697.81B**, a **5.39% decline** from 2019.\\n\\n \\n\\n\\xa0\\xa0**Download Historical Data**\\xa0\\xa0 \\xa0\\xa0**Save as Image**\\n\\nData Source: [World Bank](http://datatopics.worldbank.org/world-development-indicators/)  \\n  \\nMLA Citation:', 'score': 0.8815438, 'raw_content': None}], 'response_time': 1.64}),\n",
       "  AIMessage(content=\"I found the UK's GDP data for the past 3 years:\\n\\n- 2021: $3,141.51 billion\\n- 2020: $2,697.81 billion\\n- 2019: $2,851.41 billion\\n\\nNow, I will proceed to create a line chart showcasing this data.\", additional_kwargs={'tool_calls': [{'id': 'call_rbwyn86rOudSBJ8JEIGMCALH', 'function': {'arguments': '{\"query\": \"line chart maker\"}', 'name': 'tavily_search_results_json'}, 'type': 'function'}, {'id': 'call_YP7dOoNQnPy5z1eZRaRKy53z', 'function': {'arguments': '{\"query\": \"line chart creator\"}', 'name': 'tavily_search_results_json'}, 'type': 'function'}], 'refusal': None}, response_metadata={'token_usage': {'completion_tokens': 123, 'prompt_tokens': 766, 'total_tokens': 889, 'completion_tokens_details': {'accepted_prediction_tokens': 0, 'audio_tokens': 0, 'reasoning_tokens': 0, 'rejected_prediction_tokens': 0}, 'prompt_tokens_details': {'audio_tokens': 0, 'cached_tokens': 0}}, 'model_name': 'gpt-3.5-turbo-0125', 'system_fingerprint': None, 'id': 'chatcmpl-BlHkigaZqdidljVzF26AnjMR6EGVn', 'service_tier': 'default', 'finish_reason': 'tool_calls', 'logprobs': None}, id='run--a074c46b-95e4-4346-8d88-77b656d988d1-0', tool_calls=[{'name': 'tavily_search_results_json', 'args': {'query': 'line chart maker'}, 'id': 'call_rbwyn86rOudSBJ8JEIGMCALH', 'type': 'tool_call'}, {'name': 'tavily_search_results_json', 'args': {'query': 'line chart creator'}, 'id': 'call_YP7dOoNQnPy5z1eZRaRKy53z', 'type': 'tool_call'}], usage_metadata={'input_tokens': 766, 'output_tokens': 123, 'total_tokens': 889, 'input_token_details': {'audio': 0, 'cache_read': 0}, 'output_token_details': {'audio': 0, 'reasoning': 0}}),\n",
       "  ToolMessage(content='[{\"title\": \"Free Line Graph Maker - Create Line Chart Online - Draxlr\", \"url\": \"https://www.draxlr.com/tools/line-chart-generator/\", \"content\": \"A well-titled graph with clearly labeled X-axis and Y-axis is crucial for effective data communication. With our free line chart maker, you can easily add these elements to give an immediate overview of the chart’s purpose and ensure that viewers can accurately interpret the data being displayed. These simple additions can significantly enhance the readability and professionalism of your line charts, making them more impactful in presentations and reports. By providing clear and concise titles [...] Draxlr’s free line chart generator makes it simple to upload your CSV files. The line chart maker transforms your raw data into clear, accurate visualizations, so you can see your data trends in a way that’s easy to interpret and share.\\\\n\\\\n### Tailor line colors individually [...] ### Boundless rows and columns\\\\n\\\\nWhether you\\'re a freelancer, a team leader, or need to showcase data across your entire company, Our free line chart maker allows you to easily expand your data set by adding an unlimited number of rows and columns, allowing you to create the most accurate and detailed line chart that is possible.\\\\n\\\\n### Seamless CSV file integration\", \"score\": 0.87605256}]', name='tavily_search_results_json', id='2066b9cb-e2a4-4110-a988-900779249a82', tool_call_id='call_rbwyn86rOudSBJ8JEIGMCALH', artifact={'query': 'line chart maker', 'follow_up_questions': None, 'answer': None, 'images': [], 'results': [{'url': 'https://www.draxlr.com/tools/line-chart-generator/', 'title': 'Free Line Graph Maker - Create Line Chart Online - Draxlr', 'content': \"A well-titled graph with clearly labeled X-axis and Y-axis is crucial for effective data communication. With our free line chart maker, you can easily add these elements to give an immediate overview of the chart’s purpose and ensure that viewers can accurately interpret the data being displayed. These simple additions can significantly enhance the readability and professionalism of your line charts, making them more impactful in presentations and reports. By providing clear and concise titles [...] Draxlr’s free line chart generator makes it simple to upload your CSV files. The line chart maker transforms your raw data into clear, accurate visualizations, so you can see your data trends in a way that’s easy to interpret and share.\\n\\n### Tailor line colors individually [...] ### Boundless rows and columns\\n\\nWhether you're a freelancer, a team leader, or need to showcase data across your entire company, Our free line chart maker allows you to easily expand your data set by adding an unlimited number of rows and columns, allowing you to create the most accurate and detailed line chart that is possible.\\n\\n### Seamless CSV file integration\", 'score': 0.87605256, 'raw_content': None}], 'response_time': 1.65}),\n",
       "  ToolMessage(content='[{\"title\": \"Free Line Graph Maker - Create Line Chart Online - Draxlr\", \"url\": \"https://www.draxlr.com/tools/line-chart-generator/\", \"content\": \"A well-titled graph with clearly labeled X-axis and Y-axis is crucial for effective data communication. With our free line chart maker, you can easily add these elements to give an immediate overview of the chart’s purpose and ensure that viewers can accurately interpret the data being displayed. These simple additions can significantly enhance the readability and professionalism of your line charts, making them more impactful in presentations and reports. By providing clear and concise titles [...] # Line Chart Maker\\\\n\\\\nCreate unlimited stunning Line graphs for free in seconds and embed Line graph into any website without writing code. Or download Line chart as a high-quality image for offline use. [...] ### Boundless rows and columns\\\\n\\\\nWhether you\\'re a freelancer, a team leader, or need to showcase data across your entire company, Our free line chart maker allows you to easily expand your data set by adding an unlimited number of rows and columns, allowing you to create the most accurate and detailed line chart that is possible.\\\\n\\\\n### Seamless CSV file integration\", \"score\": 0.8319231}]', name='tavily_search_results_json', id='f5bc12dc-1c18-4077-a3ce-f4256fbb9e29', tool_call_id='call_YP7dOoNQnPy5z1eZRaRKy53z', artifact={'query': 'line chart creator', 'follow_up_questions': None, 'answer': None, 'images': [], 'results': [{'url': 'https://www.draxlr.com/tools/line-chart-generator/', 'title': 'Free Line Graph Maker - Create Line Chart Online - Draxlr', 'content': \"A well-titled graph with clearly labeled X-axis and Y-axis is crucial for effective data communication. With our free line chart maker, you can easily add these elements to give an immediate overview of the chart’s purpose and ensure that viewers can accurately interpret the data being displayed. These simple additions can significantly enhance the readability and professionalism of your line charts, making them more impactful in presentations and reports. By providing clear and concise titles [...] # Line Chart Maker\\n\\nCreate unlimited stunning Line graphs for free in seconds and embed Line graph into any website without writing code. Or download Line chart as a high-quality image for offline use. [...] ### Boundless rows and columns\\n\\nWhether you're a freelancer, a team leader, or need to showcase data across your entire company, Our free line chart maker allows you to easily expand your data set by adding an unlimited number of rows and columns, allowing you to create the most accurate and detailed line chart that is possible.\\n\\n### Seamless CSV file integration\", 'score': 0.8319231, 'raw_content': None}], 'response_time': 1.75}),\n",
       "  HumanMessage(content=\"I found a free line chart maker tool that can help create the line chart for the UK's GDP over the past 3 years. You can use the Draxlr Line Chart Generator to input the GDP data for 2019, 2020, and 2021 and create the visualization.\\n\\nYou can access the Line Chart Generator tool here: [Draxlr Line Chart Generator](https://www.draxlr.com/tools/line-chart-generator/)\\n\\nPlease proceed with creating the line chart.\", additional_kwargs={}, response_metadata={}, name='researcher', id='e312353b-2e0d-4605-9991-a850f94d96c9'),\n",
       "  AIMessage(content='', additional_kwargs={'tool_calls': [{'id': 'call_rEMh8EVrp9k8Er59D2Kpr6To', 'function': {'arguments': '{\"code\":\"import matplotlib.pyplot as plt\\\\n\\\\nyears = [2019, 2020, 2021]\\\\ngdp_values = [2851.41, 2697.81, 3141.51]\\\\n\\\\nplt.figure(figsize=(10, 6))\\\\nplt.plot(years, gdp_values, marker=\\'o\\', color=\\'b\\', linestyle=\\'-\\')\\\\nplt.title(\\'UK GDP Over the Past 3 Years\\')\\\\nplt.xlabel(\\'Year\\')\\\\nplt.ylabel(\\'GDP (in billion $)\\')\\\\nplt.grid(True)\\\\nplt.show()\"}', 'name': 'python_repl_tool'}, 'type': 'function'}], 'refusal': None}, response_metadata={'token_usage': {'completion_tokens': 135, 'prompt_tokens': 1546, 'total_tokens': 1681, 'completion_tokens_details': {'accepted_prediction_tokens': 0, 'audio_tokens': 0, 'reasoning_tokens': 0, 'rejected_prediction_tokens': 0}, 'prompt_tokens_details': {'audio_tokens': 0, 'cached_tokens': 0}}, 'model_name': 'gpt-3.5-turbo-0125', 'system_fingerprint': None, 'id': 'chatcmpl-BlHkp0alD5svWWUWxqrVt4a8Yq2Wl', 'service_tier': 'default', 'finish_reason': 'tool_calls', 'logprobs': None}, id='run--a950a918-6375-47bf-a0ff-ba2adb74aaa3-0', tool_calls=[{'name': 'python_repl_tool', 'args': {'code': \"import matplotlib.pyplot as plt\\n\\nyears = [2019, 2020, 2021]\\ngdp_values = [2851.41, 2697.81, 3141.51]\\n\\nplt.figure(figsize=(10, 6))\\nplt.plot(years, gdp_values, marker='o', color='b', linestyle='-')\\nplt.title('UK GDP Over the Past 3 Years')\\nplt.xlabel('Year')\\nplt.ylabel('GDP (in billion $)')\\nplt.grid(True)\\nplt.show()\"}, 'id': 'call_rEMh8EVrp9k8Er59D2Kpr6To', 'type': 'tool_call'}], usage_metadata={'input_tokens': 1546, 'output_tokens': 135, 'total_tokens': 1681, 'input_token_details': {'audio': 0, 'cache_read': 0}, 'output_token_details': {'audio': 0, 'reasoning': 0}}),\n",
       "  ToolMessage(content=\"Successfully executed:\\n```python\\nimport matplotlib.pyplot as plt\\n\\nyears = [2019, 2020, 2021]\\ngdp_values = [2851.41, 2697.81, 3141.51]\\n\\nplt.figure(figsize=(10, 6))\\nplt.plot(years, gdp_values, marker='o', color='b', linestyle='-')\\nplt.title('UK GDP Over the Past 3 Years')\\nplt.xlabel('Year')\\nplt.ylabel('GDP (in billion $)')\\nplt.grid(True)\\nplt.show()\\n```\\nStdout: \\n\\nIf you have completed all tasks, respond with FINAL ANSWER.\", name='python_repl_tool', id='26a431fc-df4d-41b8-85d6-d16843c42bda', tool_call_id='call_rEMh8EVrp9k8Er59D2Kpr6To'),\n",
       "  HumanMessage(content=\"Here is the line chart illustrating the UK's GDP over the past 3 years (2019, 2020, 2021):\\n\\nThe chart displays an increase in GDP from 2019 to 2020, followed by a further increase in 2021.\\n\\n![UK GDP Over the Past 3 Years](attachment://tmpgv1xnn3p.png)\\n\\nFINAL ANSWER\", additional_kwargs={}, response_metadata={}, name='chart_generator', id='81a45616-7700-408d-8e9e-a89b6475ce70')]}"
      ]
     },
     "execution_count": 283,
     "metadata": {},
     "output_type": "execute_result"
    }
   ],
   "source": [
    "# Test\n",
    "app.invoke(\n",
    "    {\n",
    "        \"messages\": [\n",
    "                    (\"user\",\"get the UK's GDP over the past 3 years, then make a line chart of it.Once you make the chart, finish.\")\n",
    "                    ]\n",
    "    })\n"
   ]
  },
  {
   "cell_type": "code",
   "execution_count": null,
   "id": "95f9f837-22e2-46b1-a352-5e14fdfd5e07",
   "metadata": {},
   "outputs": [],
   "source": []
  },
  {
   "cell_type": "code",
   "execution_count": null,
   "id": "d2d9ddc8-ec6d-45c9-8840-10b6a2f5a016",
   "metadata": {},
   "outputs": [],
   "source": []
  },
  {
   "cell_type": "code",
   "execution_count": null,
   "id": "a9bb9db7-d118-4345-ab8d-56fa965d8c02",
   "metadata": {},
   "outputs": [],
   "source": []
  },
  {
   "cell_type": "code",
   "execution_count": null,
   "id": "a2e49fb8-e19d-4a0d-9f5a-37ff98240c27",
   "metadata": {},
   "outputs": [],
   "source": []
  },
  {
   "cell_type": "code",
   "execution_count": null,
   "id": "97b2c75b-2659-4462-9707-365e01c1e55a",
   "metadata": {},
   "outputs": [],
   "source": []
  }
 ],
 "metadata": {
  "kernelspec": {
   "display_name": "Python 3 (ipykernel)",
   "language": "python",
   "name": "python3"
  },
  "language_info": {
   "codemirror_mode": {
    "name": "ipython",
    "version": 3
   },
   "file_extension": ".py",
   "mimetype": "text/x-python",
   "name": "python",
   "nbconvert_exporter": "python",
   "pygments_lexer": "ipython3",
   "version": "3.12.8"
  }
 },
 "nbformat": 4,
 "nbformat_minor": 5
}
