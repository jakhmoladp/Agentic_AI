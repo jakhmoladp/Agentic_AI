{
 "cells": [
  {
   "cell_type": "markdown",
   "id": "c4b058be",
   "metadata": {},
   "source": [
    "<h1> Pydantic Basics: Creating and Using Models</h1>\n",
    "\n",
    "Pydantic models are the foundation of data validation in Python. They use Python type annotations to define the structure and validate data at runtime. Here's a detailed exploration of basic model creation with several examples.\n",
    "\n"
   ]
  },
  {
   "cell_type": "markdown",
   "id": "4db1f38b-b142-48ef-8062-25ee9758456d",
   "metadata": {},
   "source": [
    "### Example of using dataclass\n",
    "\n",
    "In python, we can use the dataclasses to define the schema of an object. However, it doesn't enforce the schema. User can pass the value in different datatype than what was defined in the data class"
   ]
  },
  {
   "cell_type": "code",
   "execution_count": 1,
   "id": "0d269075",
   "metadata": {},
   "outputs": [],
   "source": [
    "from dataclasses import dataclass\n",
    "\n",
    "# Use @dataclass decorator to convert a regular class to dataclass\n",
    "\n",
    "@dataclass\n",
    "class Person():\n",
    "    name:str\n",
    "    age:int\n",
    "    city:str"
   ]
  },
  {
   "cell_type": "code",
   "execution_count": 2,
   "id": "64708358",
   "metadata": {},
   "outputs": [
    {
     "name": "stdout",
     "output_type": "stream",
     "text": [
      "Person(name='Krish', age=35, city='Bangalore')\n"
     ]
    }
   ],
   "source": [
    "person=Person(name=\"Krish\",age=35,city=\"Bangalore\")\n",
    "print(person)"
   ]
  },
  {
   "cell_type": "code",
   "execution_count": 3,
   "id": "3d67b9b8",
   "metadata": {},
   "outputs": [
    {
     "name": "stdout",
     "output_type": "stream",
     "text": [
      "Person(name='Krish', age=35, city=35)\n"
     ]
    }
   ],
   "source": [
    "person=Person(name=\"Krish\",age=35,city=35)\n",
    "print(person)"
   ]
  },
  {
   "cell_type": "markdown",
   "id": "c81c85a5-41f6-4e1f-b464-e9f4173b99fd",
   "metadata": {},
   "source": [
    "<p style=\"background:#FFFDD0\">☝️ Here we can see that code didn't perform the validation on the datatype.</p>"
   ]
  },
  {
   "cell_type": "markdown",
   "id": "5f59d624-818e-4e44-a45b-1a3b46ec6c97",
   "metadata": {},
   "source": [
    "### Example of Pydantic Class\n",
    "\n",
    "Pydantic enforces the schema validation"
   ]
  },
  {
   "cell_type": "code",
   "execution_count": 1,
   "id": "072c9aaa",
   "metadata": {},
   "outputs": [],
   "source": [
    "from pydantic import BaseModel"
   ]
  },
  {
   "cell_type": "code",
   "execution_count": 2,
   "id": "a2882d55",
   "metadata": {},
   "outputs": [
    {
     "name": "stdout",
     "output_type": "stream",
     "text": [
      "name='Krish' age=35 city='Bangalore'\n"
     ]
    }
   ],
   "source": [
    "class Person1(BaseModel):\n",
    "    name:str\n",
    "    age:int\n",
    "    city:str\n",
    "\n",
    "person=Person1(name=\"Krish\",age=35,city=\"Bangalore\")\n",
    "print(person)"
   ]
  },
  {
   "cell_type": "code",
   "execution_count": 22,
   "id": "debbfb3e",
   "metadata": {},
   "outputs": [
    {
     "name": "stdout",
     "output_type": "stream",
     "text": [
      "❌ Validation Error 1 validation error for Person1\n",
      "city\n",
      "  Input should be a valid string [type=string_type, input_value=35, input_type=int]\n",
      "    For further information visit https://errors.pydantic.dev/2.11/v/string_type\n"
     ]
    }
   ],
   "source": [
    "# Using pydantic, the code throws errror if schema is not followed\n",
    "try:\n",
    "    person1=Person1(name=\"Krish\",age=35,city=35)\n",
    "\n",
    "except Exception as e:\n",
    "    print(\"❌ Validation Error\", str(e))"
   ]
  },
  {
   "cell_type": "code",
   "execution_count": 6,
   "id": "364c4d3f",
   "metadata": {},
   "outputs": [
    {
     "name": "stdout",
     "output_type": "stream",
     "text": [
      "name='Krish' age=35 city='35'\n"
     ]
    }
   ],
   "source": [
    "person2 = Person1(name=\"Krish\",age=35,city=\"35\")\n",
    "print(person2)"
   ]
  },
  {
   "cell_type": "markdown",
   "id": "4a865be7",
   "metadata": {},
   "source": [
    "#### 1. Adding Optional Fields\n",
    "Add optional fields using Python's Optional type:\n",
    "\n"
   ]
  },
  {
   "cell_type": "code",
   "execution_count": 7,
   "id": "7a0e2969",
   "metadata": {},
   "outputs": [],
   "source": [
    "from typing import Optional\n",
    "\n",
    "class Employee(BaseModel):\n",
    "    id:int\n",
    "    name:str\n",
    "    department:str\n",
    "    salary: Optional[float] = None #Optional with default value\n",
    "    is_active: Optional[bool] = True #optional field with default value"
   ]
  },
  {
   "cell_type": "code",
   "execution_count": 8,
   "id": "ab394c56",
   "metadata": {},
   "outputs": [
    {
     "name": "stdout",
     "output_type": "stream",
     "text": [
      "id=1 name='John' department='CS' salary=None is_active=True\n"
     ]
    }
   ],
   "source": [
    "emp1=Employee(id=1,name=\"John\",department=\"CS\")\n",
    "print(emp1)"
   ]
  },
  {
   "cell_type": "code",
   "execution_count": 9,
   "id": "5cb398d2",
   "metadata": {},
   "outputs": [
    {
     "name": "stdout",
     "output_type": "stream",
     "text": [
      "id=2 name='Krish' department='CS' salary=30000.0 is_active=True\n"
     ]
    }
   ],
   "source": [
    "emp2=Employee(id=2,name=\"Krish\",department=\"CS\",salary=\"30000\")\n",
    "print(emp2)"
   ]
  },
  {
   "cell_type": "markdown",
   "id": "8bceaa0c",
   "metadata": {},
   "source": [
    "Definition:\n",
    "- Optional[type]: Indicates the field can be None\n",
    "\n",
    "- Default value (= None or = True): Makes the field optional\n",
    "\n",
    "- Required fields must still be provided\n",
    "\n",
    "- Pydantic validates types even for optional fields when values are provided\n",
    "\n",
    "- Pydantic will try to automatically convert the datatype if possible. Example, a string \"3000\" gets converted to 3000.00 as float in above code."
   ]
  },
  {
   "cell_type": "code",
   "execution_count": 14,
   "id": "2f8d0f0c",
   "metadata": {},
   "outputs": [
    {
     "name": "stdout",
     "output_type": "stream",
     "text": [
      "id=2 name='Krish' department='CS' salary=30000.0 is_active=True\n"
     ]
    }
   ],
   "source": [
    "emp3=Employee(id=2,name=\"Krish\",department=\"CS\",salary=\"30000\",is_active=1)\n",
    "print(emp3)"
   ]
  },
  {
   "cell_type": "markdown",
   "id": "91ea00df-2b9e-4775-ac6b-348998280f2c",
   "metadata": {},
   "source": [
    "#### 2. Adding type for List of Strings\n",
    "Add optional fields using Python's Optional type:"
   ]
  },
  {
   "cell_type": "code",
   "execution_count": 11,
   "id": "bf1c44ea",
   "metadata": {},
   "outputs": [],
   "source": [
    "from typing import List\n",
    "\n",
    "class Classroom(BaseModel):\n",
    "    room_number:str\n",
    "    students: List[str] #List of strings\n",
    "    capacity:int"
   ]
  },
  {
   "cell_type": "code",
   "execution_count": 11,
   "id": "2d106620",
   "metadata": {},
   "outputs": [
    {
     "name": "stdout",
     "output_type": "stream",
     "text": [
      "room_number='A101' students=['Alice', 'Bob', 'Charlie'] capacity=30\n"
     ]
    }
   ],
   "source": [
    "# Create a classroom\n",
    "classroom = Classroom(\n",
    "    room_number=\"A101\",\n",
    "    students=(\"Alice\", \"Bob\", \"Charlie\"),\n",
    "    capacity=30\n",
    ")\n",
    "print(classroom)"
   ]
  },
  {
   "cell_type": "code",
   "execution_count": 21,
   "id": "07551ce6",
   "metadata": {},
   "outputs": [
    {
     "name": "stdout",
     "output_type": "stream",
     "text": [
      "❌ 1 validation error for Classroom\n",
      "students.1\n",
      "  Input should be a valid string [type=string_type, input_value=123, input_type=int]\n",
      "    For further information visit https://errors.pydantic.dev/2.11/v/string_type\n"
     ]
    }
   ],
   "source": [
    "try:\n",
    "    invalid_val = Classroom(\n",
    "        room_number=\"A1\",\n",
    "        students=[\"Krish\",123],\n",
    "        capacity=30)\n",
    "\n",
    "except Exception as e:\n",
    "    print(\"❌\",e)"
   ]
  },
  {
   "cell_type": "markdown",
   "id": "f7345a99-8a66-4d24-be9e-7898d820ea7b",
   "metadata": {},
   "source": [
    "<p style=\"background:#FFFDD0\">☝️ Student accepts List of string, but the list contain one value as integer, which resulted in the error.</p>"
   ]
  },
  {
   "cell_type": "markdown",
   "id": "76876b1f",
   "metadata": {},
   "source": [
    "#### 3. Model with Nested Models\n",
    "Create complex structures with nested models:"
   ]
  },
  {
   "cell_type": "code",
   "execution_count": 16,
   "id": "b485c6a3",
   "metadata": {},
   "outputs": [],
   "source": [
    "from pydantic import BaseModel\n",
    "\n",
    "class Address(BaseModel):\n",
    "    street:str\n",
    "    city:str\n",
    "    zip_code:str\n",
    "\n",
    "class Customer(BaseModel):\n",
    "    customer_id:int\n",
    "    name:str\n",
    "    address: Address  ## Nested Model"
   ]
  },
  {
   "cell_type": "code",
   "execution_count": 16,
   "id": "b50dc51d",
   "metadata": {},
   "outputs": [
    {
     "name": "stdout",
     "output_type": "stream",
     "text": [
      "customer_id=1 name='Krish' address=Address(street='Main street', city='Boston', zip_code='02108')\n"
     ]
    }
   ],
   "source": [
    "customer=Customer(customer_id=1,name=\"Krish\",\n",
    "                  address={\"street\":\"Main street\",\"city\":\"Boston\",\"zip_code\":\"02108\"})\n",
    "\n",
    "print(customer)"
   ]
  },
  {
   "cell_type": "code",
   "execution_count": 19,
   "id": "497286a6",
   "metadata": {},
   "outputs": [
    {
     "name": "stdout",
     "output_type": "stream",
     "text": [
      "❌ ERROR DETAILS: 1 validation error for Customer\n",
      "address.city\n",
      "  Input should be a valid string [type=string_type, input_value=123, input_type=int]\n",
      "    For further information visit https://errors.pydantic.dev/2.11/v/string_type\n"
     ]
    }
   ],
   "source": [
    "try:\n",
    "    customer=Customer(customer_id=1,name=\"Krish\",\n",
    "                      address={\"street\":\"Main street\",\"city\":123,\"zip_code\":\"02108\"})\n",
    "\n",
    "except Exception as e:\n",
    "    print(\"❌ ERROR DETAILS:\", e)"
   ]
  },
  {
   "cell_type": "markdown",
   "id": "eaa1ef99",
   "metadata": {},
   "source": [
    "#### 4. Pydantic Fields: Customization and Constraints\n",
    "\n",
    "The Field function in Pydantic enhances model fields beyond basic type hints by allowing you to specify validation rules, default values, aliases, and more. Here's a comprehensive tutorial with examples."
   ]
  },
  {
   "cell_type": "code",
   "execution_count": 27,
   "id": "6a2a2c51",
   "metadata": {},
   "outputs": [
    {
     "name": "stdout",
     "output_type": "stream",
     "text": [
      "❌ Error Details:  1 validation error for Item\n",
      "price\n",
      "  Input should be less than or equal to 10000 [type=less_than_equal, input_value=100000, input_type=int]\n",
      "    For further information visit https://errors.pydantic.dev/2.11/v/less_than_equal\n"
     ]
    }
   ],
   "source": [
    "from pydantic import BaseModel,Field\n",
    "\n",
    "class Item(BaseModel):\n",
    "    name:str = Field(min_length=2,max_length=50)\n",
    "    price:float = Field(gt=0,le=10000)  ## greater than 0 and less than or equal to 1000\n",
    "    quantity:int = Field(ge=0)\n",
    "\n",
    "try:\n",
    "    item=Item(name=\"Book\", price=100000,quantity=10)\n",
    "    print(item)\n",
    "except Exception as e:\n",
    "    print(\"❌ Error Details: \", e)"
   ]
  },
  {
   "cell_type": "code",
   "execution_count": 28,
   "id": "f651bd9a",
   "metadata": {},
   "outputs": [
    {
     "name": "stdout",
     "output_type": "stream",
     "text": [
      "username='alice' age=18 email='user@example.com'\n"
     ]
    }
   ],
   "source": [
    "class User(BaseModel):\n",
    "    username:str = Field(description=\"Unique username for the user\")\n",
    "    age:int = Field(default=18,description=\"User age default to 18 \")\n",
    "    email:str = Field(default_factory=lambda: \"user@example.com\",description=\"Default email address\")\n",
    "\n",
    "\n",
    "# Examples\n",
    "user1 = User(username=\"alice\")\n",
    "print(user1)"
   ]
  },
  {
   "cell_type": "code",
   "execution_count": 24,
   "id": "1cb1e653",
   "metadata": {},
   "outputs": [
    {
     "name": "stdout",
     "output_type": "stream",
     "text": [
      "username='bob' age=25 email='bob@domain.com'\n"
     ]
    }
   ],
   "source": [
    "user2 = User(username=\"bob\", age=25, email=\"bob@domain.com\")\n",
    "print(user2)"
   ]
  },
  {
   "cell_type": "markdown",
   "id": "e890e63d-a999-4f3e-8894-bab0060778d3",
   "metadata": {},
   "source": [
    "#### 5. Printing the Schema of Pydantic Class\n",
    "\n",
    "We can print the schema of a pydantic object. It is very useful with LLM prompt templates. "
   ]
  },
  {
   "cell_type": "code",
   "execution_count": 25,
   "id": "107b21d9",
   "metadata": {},
   "outputs": [
    {
     "data": {
      "text/plain": [
       "{'properties': {'username': {'description': 'Unique username for the user',\n",
       "   'title': 'Username',\n",
       "   'type': 'string'},\n",
       "  'age': {'default': 18,\n",
       "   'description': 'User age default to 18 ',\n",
       "   'title': 'Age',\n",
       "   'type': 'integer'},\n",
       "  'email': {'description': 'Default email address',\n",
       "   'title': 'Email',\n",
       "   'type': 'string'}},\n",
       " 'required': ['username'],\n",
       " 'title': 'User',\n",
       " 'type': 'object'}"
      ]
     },
     "execution_count": 25,
     "metadata": {},
     "output_type": "execute_result"
    }
   ],
   "source": [
    "User.model_json_schema()"
   ]
  },
  {
   "cell_type": "markdown",
   "id": "48d2d19c-2caf-4c4f-94c0-f9284bd41c5b",
   "metadata": {},
   "source": [
    "#### 6. Using Pydantic Logfire for tracking the logs\n"
   ]
  },
  {
   "cell_type": "code",
   "execution_count": 29,
   "id": "ffa74f94-fc01-4329-8670-c579f39b3c19",
   "metadata": {},
   "outputs": [],
   "source": [
    "import logfire"
   ]
  },
  {
   "cell_type": "code",
   "execution_count": 30,
   "id": "3c979ac6-322d-44a3-b985-8594543321e9",
   "metadata": {},
   "outputs": [
    {
     "name": "stdout",
     "output_type": "stream",
     "text": [
      "14:47:23.993 Hello, Devendra!\n",
      "14:47:24.056 Pydantic Delivery validate_python\n"
     ]
    },
    {
     "data": {
      "text/html": [
       "<pre style=\"white-space:pre;overflow-x:auto;line-height:normal;font-family:Menlo,'DejaVu Sans Mono',consolas,'Courier New',monospace\"><span style=\"font-weight: bold\">Logfire</span> project URL: <a href=\"https://logfire-us.pydantic.dev/devjakhmola1990/starter-project\" target=\"_blank\"><span style=\"color: #008080; text-decoration-color: #008080; text-decoration: underline\">https://logfire-us.pydantic.dev/devjakhmola1990/starter-project</span></a>\n",
       "</pre>\n"
      ],
      "text/plain": [
       "\u001b[1mLogfire\u001b[0m project URL: \u001b]8;id=450432;https://logfire-us.pydantic.dev/devjakhmola1990/starter-project\u001b\\\u001b[4;36mhttps://logfire-us.pydantic.dev/devjakhmola1990/starter-project\u001b[0m\u001b]8;;\u001b\\\n"
      ]
     },
     "metadata": {},
     "output_type": "display_data"
    },
    {
     "name": "stdout",
     "output_type": "stream",
     "text": [
      "datetime.datetime(2020, 1, 2, 3, 4, 5, tzinfo=TzInfo(UTC))\n",
      "(10, 20)\n"
     ]
    }
   ],
   "source": [
    "from datetime import datetime\n",
    "import logfire\n",
    "\n",
    "from pydantic import BaseModel\n",
    "\n",
    "logfire.configure(token='pylf_**********************************5')\n",
    "logfire.info('Hello, Devendra!', place='World')\n",
    "\n",
    "logfire.instrument_pydantic()  \n",
    "\n",
    "class Delivery(BaseModel):\n",
    "    timestamp: datetime\n",
    "    dimensions: tuple[int, int]\n",
    "\n",
    "\n",
    "# this will record details of a successful validation to logfire\n",
    "m = Delivery(timestamp='2020-01-02T03:04:05Z', dimensions=['10', '20'])\n",
    "print(repr(m.timestamp))\n",
    "\n",
    "print(m.dimensions)"
   ]
  },
  {
   "cell_type": "markdown",
   "id": "a5fcb0be-5706-4a95-b3b0-a32841ef6c0d",
   "metadata": {},
   "source": [
    "### More Exampls"
   ]
  },
  {
   "cell_type": "code",
   "execution_count": 31,
   "id": "4e801488-c080-4aa6-a02d-d4234eb4d248",
   "metadata": {},
   "outputs": [
    {
     "name": "stdout",
     "output_type": "stream",
     "text": [
      "14:49:53.851 Pydantic User validate_python\n",
      "123\n",
      "{'id': 123, 'name': 'John Doe', 'signup_ts': datetime.datetime(2019, 6, 1, 12, 22), 'tastes': {'wine': 9, 'cheese': 7, 'cabbage': 1}}\n"
     ]
    }
   ],
   "source": [
    "from datetime import datetime\n",
    "from pydantic import BaseModel, PositiveInt\n",
    "\n",
    "class User(BaseModel):\n",
    "    id: int  \n",
    "    name: str = 'John Doe'  \n",
    "    signup_ts: datetime | None  \n",
    "    tastes: dict[str, PositiveInt]  \n",
    "\n",
    "\n",
    "external_data = {\n",
    "    'id': 123,\n",
    "    'signup_ts': '2019-06-01 12:22',  \n",
    "    'tastes': {\n",
    "        'wine': 9,\n",
    "        b'cheese': 7,  \n",
    "        'cabbage': '1',  \n",
    "    },\n",
    "}\n",
    "\n",
    "user = User(**external_data)  \n",
    "\n",
    "print(user.id)  \n",
    "\n",
    "print(user.model_dump())  \n"
   ]
  },
  {
   "cell_type": "code",
   "execution_count": 39,
   "id": "ac6082d4-77a5-4856-ae45-d8dba10d0374",
   "metadata": {},
   "outputs": [
    {
     "name": "stdout",
     "output_type": "stream",
     "text": [
      "{'id': 5, 'name': 'John Doe', 'signup_ts': datetime.datetime(2019, 6, 1, 12, 22), 'tastes': {}}\n"
     ]
    }
   ],
   "source": [
    "# continuing the above example...\n",
    "\n",
    "from datetime import datetime\n",
    "from pydantic import BaseModel, PositiveInt, ValidationError\n",
    "\n",
    "\n",
    "class User(BaseModel):\n",
    "    id: int\n",
    "    name: str = 'John Doe'\n",
    "    signup_ts: datetime | None\n",
    "    tastes: dict[str, PositiveInt]\n",
    "\n",
    "\n",
    "external_data = {'id': 5, 'signup_ts': '2019-06-01 12:22', 'tastes': {}}  \n",
    "\n",
    "try:\n",
    "    user = User(**external_data) \n",
    "    print(user.model_dump())\n",
    "except ValidationError as e:\n",
    "    print(e)\n",
    "    \"\"\"\n",
    "    [\n",
    "        {\n",
    "            'type': 'int_parsing',\n",
    "            'loc': ('id',),\n",
    "            'msg': 'Input should be a valid integer, unable to parse string as an integer',\n",
    "            'input': 'not an int',\n",
    "            'url': 'https://errors.pydantic.dev/2/v/int_parsing',\n",
    "        },\n",
    "        {\n",
    "            'type': 'missing',\n",
    "            'loc': ('signup_ts',),\n",
    "            'msg': 'Field required',\n",
    "            'input': {'id': 'not an int', 'tastes': {}},\n",
    "            'url': 'https://errors.pydantic.dev/2/v/missing',\n",
    "        },\n",
    "    ]\n",
    "    \"\"\""
   ]
  },
  {
   "cell_type": "code",
   "execution_count": 36,
   "id": "a89da511-549f-4028-923a-78b0845fae84",
   "metadata": {},
   "outputs": [
    {
     "name": "stdout",
     "output_type": "stream",
     "text": [
      "14:56:13.146 Pydantic Fruit validate_python\n",
      "❌ ERROR DETAILS: 1 validation error for Fruit\n",
      "color\n",
      "  Input should be 'red' or 'green' [type=literal_error, input_value='k', input_type=str]\n",
      "    For further information visit https://errors.pydantic.dev/2.11/v/literal_error\n"
     ]
    }
   ],
   "source": [
    "# Using Annoted and Literals\n",
    "\n",
    "from typing import Annotated, Literal\n",
    "from annotated_types import Gt\n",
    "from pydantic import BaseModel\n",
    "\n",
    "class Fruit(BaseModel):\n",
    "    name: str  \n",
    "    color: Literal['red', 'green']  # 👈 Only of these 2 values can be provided by the user\n",
    "    weight: Annotated[float, Gt(0)]  \n",
    "    bazam: dict[str, list[tuple[int, bool, float]]]  # 👈 Key as string and values as list of tuples\n",
    " \n",
    "try:\n",
    "    data = Fruit(\n",
    "                name='Apple',\n",
    "                color='k',\n",
    "                weight= 10,\n",
    "                bazam={'foobar': [(1, True, 10.2)]},\n",
    "            )\n",
    "\n",
    "    print(data)\n",
    "\n",
    "    print(data.model_dump()) # Model structure as Dictionary\n",
    "\n",
    "    print(data.model_json_schema()) # Model Structure as JSON\n",
    "    \n",
    "except Exception as e:\n",
    "    print(\"❌ ERROR DETAILS:\", e)\n",
    "#> name='Apple' color='red' weight=4.2 bazam={'foobar': [(1, True, 0.1)]}"
   ]
  },
  {
   "cell_type": "code",
   "execution_count": 43,
   "id": "e3fd90d1-b62e-4e90-a448-dd9958d5582d",
   "metadata": {},
   "outputs": [
    {
     "name": "stdout",
     "output_type": "stream",
     "text": [
      "17:52:04.154 Pydantic Meeting validate_python\n",
      "❌ ERROR DETAILS: 1 validation error for Meeting\n",
      "when\n",
      "  Input should be a valid datetime [type=datetime_type, input_value='2020-01-01T12:00', input_type=str]\n",
      "    For further information visit https://errors.pydantic.dev/2.11/v/datetime_type\n",
      "17:52:04.158 Pydantic Meeting validate_json\n",
      "\n",
      "\n",
      "👈 JSON VALIDATE\n",
      " when=datetime.datetime(2020, 1, 1, 12, 0) where='home'\n"
     ]
    }
   ],
   "source": [
    "from datetime import datetime\n",
    "\n",
    "from pydantic import BaseModel, ValidationError\n",
    "\n",
    "class Meeting(BaseModel):\n",
    "    when: datetime\n",
    "    where: str\n",
    "\n",
    "# Model_validate allows to validate the schema\n",
    "\n",
    "try:\n",
    "    m = Meeting.model_validate(\n",
    "        obj = {'when': '2020-01-01T12:00', 'where': 'home'}, \n",
    "        strict = True\n",
    "    )\n",
    "except ValidationError as e:\n",
    "   print(\"❌ ERROR DETAILS:\", e)\n",
    "\n",
    "m_json = Meeting.model_validate_json(\n",
    "    '{\"when\": \"2020-01-01T12:00\", \"where\": \"home\"}'\n",
    ")\n",
    "print(\"\\n\\n👈 JSON VALIDATE\\n\", m_json)\n",
    "#> when=datetime.datetime(2020, 1, 1, 12, 0) where=b'home'"
   ]
  },
  {
   "cell_type": "code",
   "execution_count": 44,
   "id": "a9cb8174-bcfb-44e7-b5b1-77940f39a4d7",
   "metadata": {},
   "outputs": [],
   "source": [
    "#!pip install pydantic[email]"
   ]
  }
 ],
 "metadata": {
  "kernelspec": {
   "display_name": "Python 3 (ipykernel)",
   "language": "python",
   "name": "python3"
  },
  "language_info": {
   "codemirror_mode": {
    "name": "ipython",
    "version": 3
   },
   "file_extension": ".py",
   "mimetype": "text/x-python",
   "name": "python",
   "nbconvert_exporter": "python",
   "pygments_lexer": "ipython3",
   "version": "3.12.8"
  }
 },
 "nbformat": 4,
 "nbformat_minor": 5
}
